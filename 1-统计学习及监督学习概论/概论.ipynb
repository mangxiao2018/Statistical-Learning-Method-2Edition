{
 "cells": [
  {
   "cell_type": "markdown",
   "metadata": {},
   "source": [
    "# 概论"
   ]
  },
  {
   "cell_type": "markdown",
   "metadata": {},
   "source": [
    "## 一、起源"
   ]
  },
  {
   "cell_type": "markdown",
   "metadata": {},
   "source": [
    "1956年达特茅斯会议上首先提出人工智能概念。"
   ]
  },
  {
   "cell_type": "markdown",
   "metadata": {},
   "source": [
    "## 二、定义"
   ]
  },
  {
   "cell_type": "markdown",
   "metadata": {},
   "source": [
    "人工智能是通过感知[感知通过传感器、摄像头、语音等]、认知[模型、策略、算法]来推理完成决策。(自理解)"
   ]
  },
  {
   "cell_type": "markdown",
   "metadata": {},
   "source": [
    "## 三、名词解决"
   ]
  },
  {
   "cell_type": "markdown",
   "metadata": {},
   "source": [
    "[注]只对不好理解的词加以通俗易懂的白话解释。  \n",
    "泛化能力："
   ]
  },
  {
   "cell_type": "markdown",
   "metadata": {},
   "source": [
    "![image.png](../images/1/1.jpg)"
   ]
  },
  {
   "cell_type": "markdown",
   "metadata": {},
   "source": [
    "## 四、应用领域"
   ]
  },
  {
   "cell_type": "markdown",
   "metadata": {},
   "source": [
    "![image.png](../images/1/2.jpg)"
   ]
  },
  {
   "cell_type": "markdown",
   "metadata": {},
   "source": [
    "## 五、人工智能&机器学习&大数据关系"
   ]
  },
  {
   "cell_type": "markdown",
   "metadata": {},
   "source": [
    "![image.png](../images/1/3.jpg)"
   ]
  },
  {
   "cell_type": "markdown",
   "metadata": {},
   "source": [
    "![image.png](../images/1/4.jpg)"
   ]
  },
  {
   "cell_type": "markdown",
   "metadata": {},
   "source": [
    "## 六、机器学习分类"
   ]
  },
  {
   "cell_type": "markdown",
   "metadata": {},
   "source": [
    "![image.png](../images/1/5.jpg)"
   ]
  },
  {
   "cell_type": "markdown",
   "metadata": {},
   "source": [
    "## 七、统计学习"
   ]
  },
  {
   "cell_type": "markdown",
   "metadata": {},
   "source": [
    "### 7.1、定义"
   ]
  },
  {
   "cell_type": "markdown",
   "metadata": {},
   "source": [
    "统计学习(statistical learning)也称统计机器学习(statistical machine learning)是关于计算机基于数据构建概率统计模型并运用模型对数据进行预测与分析的一门学科。"
   ]
  },
  {
   "cell_type": "markdown",
   "metadata": {},
   "source": [
    "### 7.2、统计学习主要特点"
   ]
  },
  {
   "cell_type": "markdown",
   "metadata": {},
   "source": [
    "1、\t统计学习以计算机及网络为平台，是建立在计算机及网络上的；  \n",
    "2、\t统计学习以数据为研究对象，是数据驱动的学科；  \n",
    "3、\t统计学习的目的是对数据进行预测和分析；   \n",
    "4、\t统计学习以方法为中心，统计学习方法构建模型并应用模型进行预测和分析；  \n",
    "5、\t统计学习是概率论、统计学、信息论、计算理论、最优化理论及计算机科学等多个领域的交叉学科，并在发展中逐步形成独自的理论体系和方法论。   \n"
   ]
  },
  {
   "cell_type": "markdown",
   "metadata": {},
   "source": [
    "### 7.3、学习定义"
   ]
  },
  {
   "cell_type": "markdown",
   "metadata": {},
   "source": [
    "如果一个系统能够通过执行某个过程改进它的性能，这就是学习(赫尔伯特-西蒙[Herbert A.Simon])"
   ]
  },
  {
   "cell_type": "markdown",
   "metadata": {},
   "source": [
    "### 7.4、统计学习方法的步骤"
   ]
  },
  {
   "cell_type": "markdown",
   "metadata": {},
   "source": [
    "(1)\t得到一个有限的训练数据集合；  \n",
    "(2)\t确定包含所有可能的模型假设空间，即学习模型的集合；  \n",
    "(3)\t确定模型选择的准则，即学习的策略；  \n",
    "(4)\t实现求解最优模型的算法，即学习的算法；  \n",
    "(5)\t通过学习方法选择最优模型；  \n",
    "(6)\t利用学习最优模型对新数据进行预测或分析  "
   ]
  },
  {
   "cell_type": "markdown",
   "metadata": {},
   "source": [
    "### 7.5、统计学习方法整体框架"
   ]
  },
  {
   "cell_type": "markdown",
   "metadata": {},
   "source": [
    "A、\t从给定的、有限的、用于学习的训练数据集合出发；  \n",
    "B、\t假设数据是独立同分布产生的；  \n",
    "C、\t假设要学习的模型属于某个函数的集合，称为假设空间；  \n",
    "D、\t应用某个评价准则，从假设空间中选取一个最优的模型；这个模型使它对已知训练数据及未知测试数据(testing set)在给定的评价准则下有最优的预测；  \n",
    "E、\t最优模型的选取由算法实现。  \n"
   ]
  },
  {
   "cell_type": "markdown",
   "metadata": {},
   "source": [
    "### 7.6、统计学习学科重要性的体现"
   ]
  },
  {
   "cell_type": "markdown",
   "metadata": {},
   "source": [
    "1、\t统计学习是处理海量数据的有效手段；  \n",
    "2、\t统计学习是计算机智能化的有效手段；  \n",
    "3、\t统计学习是计算机科学发展的一个重要组成部分。  \n"
   ]
  },
  {
   "cell_type": "markdown",
   "metadata": {},
   "source": [
    "## 八、统计学习分类"
   ]
  },
  {
   "cell_type": "markdown",
   "metadata": {},
   "source": [
    "### 8.1、基本分类"
   ]
  },
  {
   "cell_type": "markdown",
   "metadata": {},
   "source": [
    "#### 8.1.1、监督学习"
   ]
  },
  {
   "cell_type": "markdown",
   "metadata": {},
   "source": [
    "监督学习(supervised learning)是指从标注数据中学习预测模型的机器学习问题。本质是学习输入到输入的映射的统计规律。 "
   ]
  },
  {
   "cell_type": "markdown",
   "metadata": {},
   "source": [
    "输入空间\n",
    "将输入所有可能取值的集合称为输入空间(input space)。\n",
    "\n",
    "输出空间\n",
    "将输出所有可能取值的集合称为输出空间(output space)。\n"
   ]
  },
  {
   "cell_type": "markdown",
   "metadata": {},
   "source": [
    "输出空间通常远远小于输入空间  \n",
    "\n",
    "特征空间  \n",
    "每个具体的输入是一个实例，由特征向量表示(feature vector)，所有特征向量存在的空间称为特征空间。  \n",
    "\n",
    "欧式空间  \n",
    "设V是实数域R上的线性空间，对V中任意两个向量α、β，定义一个二元实函数，记作(α,β),  则称(α,β)为α和β的内积，并称这种定义了内积的实数域R上的线性空间V为欧式空间。  \n",
    "\n",
    "输入输出变量  \n",
    "输入变量用大写字母X表示  \n",
    "输出变量用大写字母Y表示  \n",
    "\n",
    "输入输出变量的取值  \n",
    "输入变量的取值用小写字母x表示  \n",
    "输出变量的取值用小写字母y表示  \n",
    "\n",
    "\n",
    "\n",
    "联合概率分布  \n",
    "联合概率表示为包含多个条件并且所有的条件都同时成立的概率，记作 P(X=a,Y=b)或 P(a,b)。联合概率分布就是联合概率在样本空间中的分布情况。\n",
    "\n",
    "独立同分布  \n",
    "示例:抛骰子  \n",
    "独立  \n",
    "每次抽样之间是没有关系的，不会相互影响。  \n",
    "就像抛骰子每次抛到几就是几这就是独立的，但如果要两次抛的和大于8，其余的不算，那么第一次抛和第二次抛就不独立了，因为第二次抛的时候结果是和第一次相关的。\n",
    "\n",
    "同分布   \n",
    "每次抽样，样本都服从同样的一个分布  \n",
    "抛骰子每次得到任意点数的概率都是1/6，这就是同分布的。但如果第一次抛一个6面的色子，第二次抛一个正12面体的色子，就不再是同分布了。\n",
    "\n",
    "假设空间  \n",
    "模型属于由输入空间到输出空间的映射的集合，这个集合就是假设空间。  \n"
   ]
  },
  {
   "cell_type": "markdown",
   "metadata": {},
   "source": [
    "问题的形式化"
   ]
  },
  {
   "cell_type": "markdown",
   "metadata": {},
   "source": [
    "![image.png](../images/1/6.jpg)"
   ]
  },
  {
   "cell_type": "markdown",
   "metadata": {},
   "source": [
    "#### 8.1.2、无监督学习"
   ]
  },
  {
   "cell_type": "markdown",
   "metadata": {},
   "source": [
    "无监督学习是指从无标注数据中学习预测模型的机器学习问题。本质是学习数据中的统计规律或潜在结构。"
   ]
  },
  {
   "cell_type": "markdown",
   "metadata": {},
   "source": [
    "![image.png](../images/1/7.jpg)"
   ]
  },
  {
   "cell_type": "markdown",
   "metadata": {},
   "source": [
    "#### 8.1.3、强化学习"
   ]
  },
  {
   "cell_type": "markdown",
   "metadata": {},
   "source": [
    "强化学习是指智能系统在与环境的连续互动中学习最优行为策略的机器学习问题。本质是学习最优的序贯决策。"
   ]
  },
  {
   "cell_type": "markdown",
   "metadata": {},
   "source": [
    "![image.png](../images/1/8.jpg)"
   ]
  },
  {
   "cell_type": "markdown",
   "metadata": {},
   "source": [
    "#### 8.1.4、半监督学习"
   ]
  },
  {
   "cell_type": "markdown",
   "metadata": {},
   "source": [
    "半监督学习是指利用标注数据和未标注数据学习预测模型的机器学习问题。通常有少量标注数据、大量未标注数据。"
   ]
  },
  {
   "cell_type": "markdown",
   "metadata": {},
   "source": [
    "#### 8.1.5、主动学习"
   ]
  },
  {
   "cell_type": "markdown",
   "metadata": {},
   "source": [
    "主动学习是指机器不断主动给出实例让教师进行标注，然后利用标注数据学习预测模型的机器学习问题。"
   ]
  },
  {
   "cell_type": "markdown",
   "metadata": {},
   "source": [
    "### 8.2、按模型分类"
   ]
  },
  {
   "cell_type": "markdown",
   "metadata": {},
   "source": [
    "#### 8.2.1、概率模型与非概率模型"
   ]
  },
  {
   "cell_type": "markdown",
   "metadata": {},
   "source": [
    "概率模型使用条件概率分布形式 P(y|x)。  \n",
    "概率模型有：决策树、朴素贝叶斯、隐马尔可夫模型、条件随机场、概率潜在语义分析、潜在狄利克雷分配、高斯混合模型。  \n",
    "\n",
    "非概率模型使用函数y=f(x)。  \n",
    "非概率模型有：感知机、支持向量机、K近邻、AdaBoost、K均值、潜在语义分析、神经网络。  \n",
    "概率模型和非概率模型的区别在于模型的内在结构。  \n"
   ]
  },
  {
   "cell_type": "markdown",
   "metadata": {},
   "source": [
    "#### 8.2.2、线性模型与非线性模型"
   ]
  },
  {
   "cell_type": "markdown",
   "metadata": {},
   "source": [
    "非概率模型分为线性模型和非线性模型。\n",
    "\n",
    "线性模型有：感知机、线性支持向量机、K近邻、K均值、潜在语义分析。\n",
    "非线性模型有：核函数支持向量机、AdaBoost、神经网络。\n"
   ]
  },
  {
   "cell_type": "markdown",
   "metadata": {},
   "source": [
    "#### 8.2.3、参数化模型与非参数化模型"
   ]
  },
  {
   "cell_type": "markdown",
   "metadata": {},
   "source": [
    "参数化模型假设模型参数的维度固定。\n",
    "\n",
    "非参数化模型假设模型参数的维度不固定。\n",
    "\n",
    "参数化模型有：感知机、朴素贝叶斯、逻辑谛回归、K均值、高斯混合模型。\n",
    "\n",
    "非参数化模型有：决策树、支持向量机、AdaBoost、K近邻、潜在语义分析、概率潜在语义分析、潜在狄利克雷分配。\n"
   ]
  },
  {
   "cell_type": "markdown",
   "metadata": {},
   "source": [
    "### 8.3、按算法分类"
   ]
  },
  {
   "cell_type": "markdown",
   "metadata": {},
   "source": [
    "#### 8.3.1、在线学习(online learning)"
   ]
  },
  {
   "cell_type": "markdown",
   "metadata": {},
   "source": [
    "在线学习可以是监督学习，也可以是无监督学习，强化学习本身就拥有在线学习的特点。"
   ]
  },
  {
   "cell_type": "markdown",
   "metadata": {},
   "source": [
    "![image.png](../images/1/9.jpg)"
   ]
  },
  {
   "cell_type": "markdown",
   "metadata": {},
   "source": [
    "#### 8.3.2、批量学习(batch learning)"
   ]
  },
  {
   "cell_type": "markdown",
   "metadata": {},
   "source": [
    "批量学习一次接受所有数据，学习模型，之后进行预测。"
   ]
  },
  {
   "cell_type": "markdown",
   "metadata": {},
   "source": [
    "### 8.4、按技巧分类"
   ]
  },
  {
   "cell_type": "markdown",
   "metadata": {},
   "source": [
    "#### 8.4.1、贝叶斯学习"
   ]
  },
  {
   "cell_type": "markdown",
   "metadata": {},
   "source": [
    "贝叶斯学习，又称贝叶斯推理，是统计学、机器学习中重要的方法，主要思想是，在概率模型的学习和推理中，利用贝叶斯定理，计算在给定数据条件下模型的条件概率，即后验概率，并用这个原理进行模型的估计，以及对数据的预测。\n",
    "后验概率P(θ|D)\n"
   ]
  },
  {
   "cell_type": "markdown",
   "metadata": {},
   "source": [
    "![image.png](../images/1/10.jpg)"
   ]
  },
  {
   "cell_type": "markdown",
   "metadata": {},
   "source": [
    "#### 8.4.2、核方法"
   ]
  },
  {
   "cell_type": "markdown",
   "metadata": {},
   "source": [
    "核方法是使用核函数表示和学习非线性模型的一种机器学习方法，可用于监督学习和无监督学习。"
   ]
  },
  {
   "cell_type": "code",
   "execution_count": null,
   "metadata": {},
   "outputs": [],
   "source": []
  }
 ],
 "metadata": {
  "kernelspec": {
   "display_name": "Python 3",
   "language": "python",
   "name": "python3"
  },
  "language_info": {
   "codemirror_mode": {
    "name": "ipython",
    "version": 3
   },
   "file_extension": ".py",
   "mimetype": "text/x-python",
   "name": "python",
   "nbconvert_exporter": "python",
   "pygments_lexer": "ipython3",
   "version": "3.7.7"
  }
 },
 "nbformat": 4,
 "nbformat_minor": 4
}
